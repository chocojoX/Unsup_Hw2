{
 "cells": [
  {
   "cell_type": "code",
   "execution_count": 29,
   "metadata": {
    "collapsed": false
   },
   "outputs": [],
   "source": [
    "import numpy as np\n",
    "from munkres import Munkres, print_matrix"
   ]
  },
  {
   "cell_type": "code",
   "execution_count": 30,
   "metadata": {
    "collapsed": true
   },
   "outputs": [],
   "source": [
    "def build_cost_matrix(true_labels, predicted_labels, nb_label):\n",
    "    n = len(true_labels)\n",
    "    cost_matrix = np.zeros((nb_label,nb_label))\n",
    "    for i in range(nb_label):\n",
    "        for j in range(nb_label):\n",
    "            nb_error = 0\n",
    "            for k in range(n):\n",
    "                if predicted_labels[k] == j and true_labels[k] != i:\n",
    "                    nb_error += 1\n",
    "            cost_matrix[i,j] = nb_error\n",
    "    return cost_matrix"
   ]
  },
  {
   "cell_type": "code",
   "execution_count": 72,
   "metadata": {
    "collapsed": true
   },
   "outputs": [],
   "source": [
    "def clustering_error(label, groups):\n",
    "    # label: N-dimensional vector with ground truth labels for a dataset with N points\n",
    "    # groups: N-dimensional vector with estimated labels for a dataset with N points\n",
    "    # TODO\n",
    "    nb_label = len(np.unique(label))\n",
    "    cost_matrix = build_cost_matrix(label, groups, nb_label)\n",
    "    \n",
    "    m = Munkres()\n",
    "    indexes = m.compute(cost_matrix)\n",
    "    \n",
    "    dic = {}\n",
    "    for i,j in indexes:\n",
    "        dic[j] = i\n",
    "    print(dic)\n",
    "    error = 0\n",
    "    for k in range(len(label)):\n",
    "        if label[k] != dic[groups[k]]:\n",
    "            error += 1\n",
    "    \n",
    "    return error/len(label)"
   ]
  },
  {
   "cell_type": "code",
   "execution_count": 96,
   "metadata": {
    "collapsed": true
   },
   "outputs": [],
   "source": [
    "tl = np.array([2,2,0,1,1,2,2])\n",
    "l = np.array([2,2,2,0,1,1,1])"
   ]
  },
  {
   "cell_type": "code",
   "execution_count": 97,
   "metadata": {
    "collapsed": false
   },
   "outputs": [
    {
     "name": "stdout",
     "output_type": "stream",
     "text": [
      "{0: 1, 1: 2, 2: 0}\n"
     ]
    },
    {
     "data": {
      "text/plain": [
       "0.42857142857142855"
      ]
     },
     "execution_count": 97,
     "metadata": {},
     "output_type": "execute_result"
    }
   ],
   "source": [
    "clustering_error(tl, l)"
   ]
  },
  {
   "cell_type": "code",
   "execution_count": null,
   "metadata": {
    "collapsed": true
   },
   "outputs": [],
   "source": []
  }
 ],
 "metadata": {
  "kernelspec": {
   "display_name": "Python [Root]",
   "language": "python",
   "name": "Python [Root]"
  },
  "language_info": {
   "codemirror_mode": {
    "name": "ipython",
    "version": 3
   },
   "file_extension": ".py",
   "mimetype": "text/x-python",
   "name": "python",
   "nbconvert_exporter": "python",
   "pygments_lexer": "ipython3",
   "version": "3.5.2"
  }
 },
 "nbformat": 4,
 "nbformat_minor": 0
}
