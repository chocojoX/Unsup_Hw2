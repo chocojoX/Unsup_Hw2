{
 "cells": [
  {
   "cell_type": "code",
   "execution_count": 29,
   "metadata": {
    "collapsed": false
   },
   "outputs": [],
   "source": [
    "import numpy as np\n",
    "from munkres import Munkres, print_matrix"
   ]
  },
  {
   "cell_type": "code",
   "execution_count": 30,
   "metadata": {
    "collapsed": true
   },
   "outputs": [],
   "source": [
    "def build_cost_matrix(true_labels, predicted_labels, nb_label):\n",
    "    n = len(true_labels)\n",
    "    cost_matrix = np.zeros((nb_label,nb_label))\n",
    "    for i in range(nb_label):\n",
    "        for j in range(nb_label):\n",
    "            nb_error = 0\n",
    "            for k in range(n):\n",
    "                if predicted_labels[k] == j and true_labels[k] != i:\n",
    "                    nb_error += 1\n",
    "            cost_matrix[i,j] = nb_error\n",
    "    return cost_matrix"
   ]
  },
  {
   "cell_type": "code",
   "execution_count": 72,
   "metadata": {
    "collapsed": true
   },
   "outputs": [],
   "source": [
    "def clustering_error(label, groups):\n",
    "    # label: N-dimensional vector with ground truth labels for a dataset with N points\n",
    "    # groups: N-dimensional vector with estimated labels for a dataset with N points\n",
    "    # TODO\n",
    "    nb_label = len(np.unique(label))\n",
    "    cost_matrix = build_cost_matrix(label, groups, nb_label)\n",
    "    \n",
    "    m = Munkres()\n",
    "    indexes = m.compute(cost_matrix)\n",
    "    \n",
    "    dic = {}\n",
    "    for i,j in indexes:\n",
    "        dic[j] = i\n",
    "    print(dic)\n",
    "    error = 0\n",
    "    for k in range(len(label)):\n",
    "        if label[k] != dic[groups[k]]:\n",
    "            error += 1\n",
    "    \n",
    "    return error/len(label)"
   ]
  },
  {
   "cell_type": "code",
   "execution_count": 96,
   "metadata": {
    "collapsed": true
   },
   "outputs": [],
   "source": [
    "tl = np.array([2,2,0,1,1,2,2])\n",
    "l = np.array([2,2,2,0,1,1,1])"
   ]
  },
  {
   "cell_type": "code",
   "execution_count": 97,
   "metadata": {
    "collapsed": false
   },
   "outputs": [
    {
     "name": "stdout",
     "output_type": "stream",
     "text": [
      "{0: 1, 1: 2, 2: 0}\n"
     ]
    },
    {
     "data": {
      "text/plain": [
       "0.42857142857142855"
      ]
     },
     "execution_count": 97,
     "metadata": {},
     "output_type": "execute_result"
    }
   ],
   "source": [
    "clustering_error(tl, l)"
   ]
  },
  {
   "cell_type": "code",
   "execution_count": 2,
   "metadata": {
    "collapsed": true
   },
   "outputs": [],
   "source": [
    "from scipy.spatial.distance import cdist\n",
    "import numpy as np\n",
    "import time"
   ]
  },
  {
   "cell_type": "code",
   "execution_count": 3,
   "metadata": {
    "collapsed": false
   },
   "outputs": [],
   "source": [
    "X = np.array([\n",
    "        [1,1,2,3],\n",
    "        [43,2,21,-3],\n",
    "        [3,3,3,1],\n",
    "        [9,1,2,1],\n",
    "        [3,98,12,-20]\n",
    "    ])"
   ]
  },
  {
   "cell_type": "code",
   "execution_count": 4,
   "metadata": {
    "collapsed": false
   },
   "outputs": [
    {
     "data": {
      "text/plain": [
       "array([[  1,   1,   2,   3],\n",
       "       [ 43,   2,  21,  -3],\n",
       "       [  3,   3,   3,   1],\n",
       "       [  9,   1,   2,   1],\n",
       "       [  3,  98,  12, -20]])"
      ]
     },
     "execution_count": 4,
     "metadata": {},
     "output_type": "execute_result"
    }
   ],
   "source": [
    "X"
   ]
  },
  {
   "cell_type": "code",
   "execution_count": 5,
   "metadata": {
    "collapsed": false
   },
   "outputs": [],
   "source": [
    "X = np.random.randn(100,1000)"
   ]
  },
  {
   "cell_type": "code",
   "execution_count": 6,
   "metadata": {
    "collapsed": false
   },
   "outputs": [
    {
     "name": "stdout",
     "output_type": "stream",
     "text": [
      "CPU times: user 2 µs, sys: 1 µs, total: 3 µs\n",
      "Wall time: 3.81 µs\n"
     ]
    }
   ],
   "source": [
    "%time\n",
    "a = cdist(X.T,X.T)"
   ]
  },
  {
   "cell_type": "code",
   "execution_count": 7,
   "metadata": {
    "collapsed": true
   },
   "outputs": [],
   "source": [
    "def dists(data):\n",
    "    d, N = data.shape \n",
    "    distance_matrix = np.zeros((N,N))\n",
    "    for i in range(N):\n",
    "        for j in range(i+1, N):\n",
    "            dist = np.sum((data[:, i] - data[:, j])**2)\n",
    "            distance_matrix[i, j] = dist\n",
    "            distance_matrix[j, i] = dist\n",
    "    \n",
    "    return distance_matrix"
   ]
  },
  {
   "cell_type": "code",
   "execution_count": 8,
   "metadata": {
    "collapsed": false
   },
   "outputs": [
    {
     "data": {
      "text/plain": [
       "array([[   0.        ,  221.66882376,  199.85316595, ...,  192.36730402,\n",
       "         192.86650647,  191.88035996],\n",
       "       [ 221.66882376,    0.        ,  204.62410846, ...,  210.15149391,\n",
       "         219.32555479,  193.44763054],\n",
       "       [ 199.85316595,  204.62410846,    0.        , ...,  181.26563542,\n",
       "         184.33748116,  188.44090428],\n",
       "       ..., \n",
       "       [ 192.36730402,  210.15149391,  181.26563542, ...,    0.        ,\n",
       "         210.34366818,  174.73137457],\n",
       "       [ 192.86650647,  219.32555479,  184.33748116, ...,  210.34366818,\n",
       "           0.        ,  172.76389674],\n",
       "       [ 191.88035996,  193.44763054,  188.44090428, ...,  174.73137457,\n",
       "         172.76389674,    0.        ]])"
      ]
     },
     "execution_count": 8,
     "metadata": {},
     "output_type": "execute_result"
    }
   ],
   "source": [
    "dists(X)"
   ]
  },
  {
   "cell_type": "code",
   "execution_count": 9,
   "metadata": {
    "collapsed": false
   },
   "outputs": [
    {
     "data": {
      "text/plain": [
       "array([[   0.        ,  221.66882376,  199.85316595, ...,  192.36730402,\n",
       "         192.86650647,  191.88035996],\n",
       "       [ 221.66882376,    0.        ,  204.62410846, ...,  210.15149391,\n",
       "         219.32555479,  193.44763054],\n",
       "       [ 199.85316595,  204.62410846,    0.        , ...,  181.26563542,\n",
       "         184.33748116,  188.44090428],\n",
       "       ..., \n",
       "       [ 192.36730402,  210.15149391,  181.26563542, ...,    0.        ,\n",
       "         210.34366818,  174.73137457],\n",
       "       [ 192.86650647,  219.32555479,  184.33748116, ...,  210.34366818,\n",
       "           0.        ,  172.76389674],\n",
       "       [ 191.88035996,  193.44763054,  188.44090428, ...,  174.73137457,\n",
       "         172.76389674,    0.        ]])"
      ]
     },
     "execution_count": 9,
     "metadata": {},
     "output_type": "execute_result"
    }
   ],
   "source": [
    "a**2"
   ]
  },
  {
   "cell_type": "code",
   "execution_count": null,
   "metadata": {
    "collapsed": true
   },
   "outputs": [],
   "source": []
  }
 ],
 "metadata": {
  "anaconda-cloud": {},
  "kernelspec": {
   "display_name": "Python [Root]",
   "language": "python",
   "name": "Python [Root]"
  },
  "language_info": {
   "codemirror_mode": {
    "name": "ipython",
    "version": 3
   },
   "file_extension": ".py",
   "mimetype": "text/x-python",
   "name": "python",
   "nbconvert_exporter": "python",
   "pygments_lexer": "ipython3",
   "version": "3.5.2"
  }
 },
 "nbformat": 4,
 "nbformat_minor": 0
}
